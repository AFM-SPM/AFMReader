{
 "cells": [
  {
   "cell_type": "code",
   "execution_count": 1,
   "metadata": {},
   "outputs": [],
   "source": [
    "from topofileformats.asd import load_asd, create_animation"
   ]
  },
  {
   "cell_type": "code",
   "execution_count": 2,
   "metadata": {},
   "outputs": [
    {
     "name": "stdout",
     "output_type": "stream",
     "text": [
      "file version: 0\n",
      "{'channel1': 'TP', 'channel2': 'PH', 'header_length': 131, 'frame_header_length': 32, 'user_name_size': 14, 'comment_offset_size': 88, 'comment_size': 8, 'x_pixels': 256, 'y_pixels': 256, 'x_nm': 200, 'y_nm': 200, 'frame_time': 412.6285705566406, 'z_piezo_extension': 45.0, 'z_piezo_gain': 2.0, 'analogue_digital_range': '0x40000', 'analogue_digital_data_bits_size': 12, 'analogue_digital_resolution': 14, 'is_averaged': True, 'averaging_window': 1, 'year': 2022, 'month': 7, 'day': 15, 'hour': 16, 'minute': 44, 'second': 10, 'rounding_degree': 15, 'max_x_scan_range': 9900.0, 'max_y_scan_range': 4500.0, 'initial_frames': 142, 'num_frames': 142, 'afm_id': 0, 'file_id': 1110, 'user_name': 'biophys', 'scanner_sensitivity': 0.0, 'phase_sensitivity': 0.0, 'scan_direction': 10, 'comment_without_null': 'mica'}\n",
      "Requested channel TP matches first channel in file: TP\n",
      "Scaling factor: Type: TP -> TP | piezo extension 2.0 * piezo gain 45.0 = scaling factor 90.0\n",
      "created voltage converter. ad_range: 0x40000 -> 262144, max voltage: 5.0, scaling factor: 90.0, resolution: 4096\n",
      "Analogue to digital mapping | Range: 0x40000 -> (-5.0, 5.0)\n",
      "Converter: <topofileformats.asd.BipolarConverter object at 0x104cbb5b0>\n"
     ]
    }
   ],
   "source": [
    "FILE = \"../tests/resources/sample_0.asd\"\n",
    "frames, pixel_to_nm_scaling, metadata = load_asd(file_path=FILE, channel=\"TP\")"
   ]
  },
  {
   "cell_type": "code",
   "execution_count": 3,
   "metadata": {},
   "outputs": [
    {
     "data": {
      "image/png": "[encoded data removed]",
      "text/plain": [
       "<Figure size 640x480 with 1 Axes>"
      ]
     },
     "metadata": {},
     "output_type": "display_data"
    }
   ],
   "source": [
    "create_animation(file_name=\"sample_0\", frames=frames)"
   ]
  }
 ],
 "metadata": {
  "kernelspec": {
   "display_name": "new",
   "language": "python",
   "name": "python3"
  },
  "language_info": {
   "codemirror_mode": {
    "name": "ipython",
    "version": 3
   },
   "file_extension": ".py",
   "mimetype": "text/x-python",
   "name": "python",
   "nbconvert_exporter": "python",
   "pygments_lexer": "ipython3",
   "version": "3.10.9"
  },
  "orig_nbformat": 4
 },
 "nbformat": 4,
 "nbformat_minor": 2
}
