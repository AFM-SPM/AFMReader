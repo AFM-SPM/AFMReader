{
 "cells": [
  {
   "cell_type": "markdown",
   "metadata": {},
   "source": [
    "# SPM Files"
   ]
  },
  {
   "cell_type": "code",
   "execution_count": null,
   "metadata": {},
   "outputs": [],
   "source": [
    "from pathlib import Path\n",
    "\n",
    "# Import the load_spm from AFMReader\n",
    "from AFMReader.spm import load_spm\n",
    "from AFMReader.logging import logger\n",
    "\n",
    "logger.enable(__package__)"
   ]
  },
  {
   "cell_type": "code",
   "execution_count": null,
   "metadata": {},
   "outputs": [],
   "source": [
    "# Load the SPM file as an image and pixel to nm scaling factor\n",
    "FILE = \"../tests/resources/sample_0.spm\"\n",
    "image, pixel_to_nm_scaling = load_spm(FILE, channel=\"Height\")\n",
    "logger.info(f\"Loaded a {image.shape} image with a pixel to nm scaling factor of {pixel_to_nm_scaling} nm/pixel.\")"
   ]
  },
  {
   "cell_type": "code",
   "execution_count": null,
   "metadata": {},
   "outputs": [],
   "source": [
    "# Plot the image\n",
    "import matplotlib.pyplot as plt\n",
    "\n",
    "plt.imshow(image, cmap=\"afmhot\")\n",
    "plt.show()"
   ]
  },
  {
   "cell_type": "markdown",
   "metadata": {},
   "source": [
    "# ASD Files"
   ]
  },
  {
   "cell_type": "code",
   "execution_count": null,
   "metadata": {},
   "outputs": [],
   "source": [
    "# Import the load_asd from AFMReader\n",
    "from AFMReader.asd import load_asd, create_animation"
   ]
  },
  {
   "cell_type": "code",
   "execution_count": null,
   "metadata": {},
   "outputs": [],
   "source": [
    "# Load the ASD file as a list of frames, the pixel to nm scaling factor and the metadata\n",
    "FILE = \"../tests/resources/sample_0.asd\"\n",
    "frames, pixel_to_nm_scaling, metadata = load_asd(file_path=FILE, channel=\"TP\")\n",
    "logger.info(f\"Loaded {len(frames)} frames from {FILE}\")"
   ]
  },
  {
   "cell_type": "code",
   "execution_count": null,
   "metadata": {},
   "outputs": [],
   "source": [
    "# Plot a frame\n",
    "import matplotlib.pyplot as plt\n",
    "\n",
    "frame_number = 55\n",
    "plt.imshow(frames[frame_number], cmap=\"afmhot\")\n",
    "plt.title(f\"Frame {frame_number}\")\n",
    "plt.show()"
   ]
  },
  {
   "cell_type": "code",
   "execution_count": null,
   "metadata": {},
   "outputs": [],
   "source": [
    "# Create a gif of the frames using the create_animation function. This is slow for large files.\n",
    "create_animation(file_name=\"sample_0\", frames=frames, file_format=\".gif\")"
   ]
  },
  {
   "cell_type": "markdown",
   "metadata": {},
   "source": [
    "# JPK Files"
   ]
  },
  {
   "cell_type": "code",
   "execution_count": null,
   "metadata": {},
   "outputs": [],
   "source": [
    "# Import the load_jpk function from AFMReader\n",
    "from AFMReader.jpk import load_jpk"
   ]
  },
  {
   "cell_type": "code",
   "execution_count": null,
   "metadata": {},
   "outputs": [],
   "source": [
    "# Load the IBW file as an image and pixel to nm scaling factor\n",
    "FILE = \"../tests/resources/sample_0.jpk\"\n",
    "image, pixel_to_nm_scaling = load_jpk(file_path=FILE, channel=\"height_trac\")"
   ]
  },
  {
   "cell_type": "code",
   "execution_count": null,
   "metadata": {},
   "outputs": [],
   "source": [
    "# Plot the image\n",
    "import matplotlib.pyplot as plt\n",
    "\n",
    "plt.imshow(image, cmap=\"afmhot\")\n",
    "plt.show()"
   ]
  },
  {
   "cell_type": "markdown",
   "metadata": {},
   "source": [
    "# IBW Files"
   ]
  },
  {
   "cell_type": "code",
   "execution_count": null,
   "metadata": {},
   "outputs": [],
   "source": [
    "# Import the load_ibw function from AFMReader\n",
    "from AFMReader.ibw import load_ibw"
   ]
  },
  {
   "cell_type": "code",
   "execution_count": null,
   "metadata": {},
   "outputs": [],
   "source": [
    "# Load the IBW file as an image and pixel to nm scaling factor\n",
    "FILE = \"../tests/resources/sample_0.ibw\"\n",
    "image, pixel_to_nm_scaling = load_ibw(file_path=FILE, channel=\"HeightTracee\")"
   ]
  },
  {
   "cell_type": "code",
   "execution_count": null,
   "metadata": {},
   "outputs": [],
   "source": [
    "# Plot the image\n",
    "import matplotlib.pyplot as plt\n",
    "\n",
    "plt.imshow(image, cmap=\"afmhot\")\n",
    "plt.show()"
   ]
  },
  {
   "cell_type": "markdown",
   "metadata": {},
   "source": [
    "# IBW Files"
   ]
  },
  {
   "cell_type": "code",
   "execution_count": null,
   "metadata": {},
   "outputs": [],
   "source": [
    "# Import the load_ibw function from AFMReader\n",
    "from AFMReader.ibw import load_ibw"
   ]
  },
  {
   "cell_type": "code",
   "execution_count": null,
   "metadata": {},
   "outputs": [],
   "source": [
    "# Load the IBW file as an image and pixel to nm scaling factor\n",
    "FILE = \"../tests/resources/sample_0.ibw\"\n",
    "image, pixel_to_nm_scaling = load_ibw(file_path=FILE, channel=\"HeightTracee\")"
   ]
  },
  {
   "cell_type": "code",
   "execution_count": null,
   "metadata": {},
   "outputs": [],
   "source": [
    "# Plot the image\n",
    "import matplotlib.pyplot as plt\n",
    "\n",
    "plt.imshow(image, cmap=\"afmhot\")\n",
    "plt.show()"
   ]
  }
 ],
 "metadata": {
  "kernelspec": {
   "display_name": "new",
   "language": "python",
   "name": "python3"
  },
  "language_info": {
   "codemirror_mode": {
    "name": "ipython",
    "version": 3
   },
   "file_extension": ".py",
   "mimetype": "text/x-python",
   "name": "python",
   "nbconvert_exporter": "python",
   "pygments_lexer": "ipython3",
   "version": "3.10.9"
  }
 },
 "nbformat": 4,
 "nbformat_minor": 2
}
